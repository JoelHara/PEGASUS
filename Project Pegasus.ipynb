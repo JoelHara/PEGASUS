{
 "cells": [
  {
   "cell_type": "markdown",
   "id": "c75248ba",
   "metadata": {},
   "source": [
    "# Which Platform is more at risk of Pegasus Attacks?\n",
    "We are definining which platform is more likely to be attacked IOS or Andriod. Durning our research we found that they are close to even with IOS being targeted slightly more. This is from a sample size of 1000 phones. "
   ]
  },
  {
   "cell_type": "code",
   "execution_count": 5,
   "id": "d9e13153",
   "metadata": {},
   "outputs": [
    {
     "name": "stdout",
     "output_type": "stream",
     "text": [
      "iOS is targeted more with Pegasus attacks.\n"
     ]
    }
   ],
   "source": [
    "\n",
    "# Define the sample size\n",
    "sample_size = 1000\n",
    "\n",
    "# Calculate the number of attacks for a sample size of 1000 phones\n",
    "ios_attacks = (51 / 100) * sample_size\n",
    "android_attacks = (49 / 100) * sample_size\n",
    "\n",
    "# Determine which platform is targeted more using if, elif, and else statements\n",
    "if ios_attacks > android_attacks:\n",
    "    print(\"iOS is targeted more with Pegasus attacks.\")\n",
    "elif android_attacks > ios_attacks:\n",
    "    print(\"Android is targeted more with Pegasus attacks.\")\n",
    "else:\n",
    "    print(\"Both platforms are equally targeted with Pegasus attacks.\")\n"
   ]
  },
  {
   "cell_type": "markdown",
   "id": "5c34a0af",
   "metadata": {},
   "source": [
    "# Which out of these four Operating systems are more likely to be targeted?\n",
    "We are looking at two IOS versions and Android versions showing the percentage of attacks. "
   ]
  },
  {
   "cell_type": "code",
   "execution_count": null,
   "id": "936556e8",
   "metadata": {},
   "outputs": [
    {
     "name": "stdout",
     "output_type": "stream",
     "text": [
      "   OS_Version  Percentage_Attacks\n",
      "0    iOS 15.0                  27\n",
      "1    iOS 14.6                  25\n",
      "2  Android 10                  23\n",
      "3  Android 11                  25\n"
     ]
    }
   ],
   "source": [
    "# Create a new DataFrame with the specified percentages\n",
    "pegasus_attack_data = {\n",
    "    'OS_Version': ['iOS 15.0', 'iOS 14.6', 'Android 10', 'Android 11'],\n",
    "    'Percentage_Attacks': [27, 25, 23, 25]\n",
    "}\n",
    "\n",
    "pegasus_attack_df = pd.DataFrame(pegasus_attack_data)\n",
    "\n",
    "# Display the DataFrame\n",
    "print(pegasus_attack_df)"
   ]
  },
  {
   "cell_type": "markdown",
   "id": "d9683438",
   "metadata": {},
   "source": [
    "# Showing the protocols that have the most frequented attacks\n",
    "Showing the percentages of attacks for these three protocols. "
   ]
  },
  {
   "cell_type": "code",
   "execution_count": null,
   "id": "afa190dc",
   "metadata": {},
   "outputs": [
    {
     "name": "stdout",
     "output_type": "stream",
     "text": [
      "  Protocol  Percentage_Attacks\n",
      "0      SSH                  26\n",
      "1      FTP                  26\n",
      "2    HTTPS                  48\n"
     ]
    },
    {
     "data": {
      "text/plain": [
       "<Axes: title={'center': 'Percentage of Attacks on Protocols'}, xlabel='Protocol'>"
      ]
     },
     "execution_count": 6,
     "metadata": {},
     "output_type": "execute_result"
    },
    {
     "data": {
      "image/png": "[encoded data removed]",
      "text/plain": [
       "<Figure size 640x480 with 1 Axes>"
      ]
     },
     "metadata": {},
     "output_type": "display_data"
    }
   ],
   "source": [
    "import pandas as pd\n",
    "\n",
    "# Create a DataFrame for protocol attack percentages\n",
    "protocol_attack_data = {\n",
    "    'Protocol': ['SSH', 'FTP', 'HTTPS'],\n",
    "    'Percentage_Attacks': [26, 26, 48]\n",
    "}\n",
    "\n",
    "protocol_attack_df = pd.DataFrame(protocol_attack_data)\n",
    "\n",
    "# Display the DataFrame\n",
    "print(protocol_attack_df)\n",
    "\n",
    "# Optionally, plot the data\n",
    "protocol_attack_df.plot(x='Protocol', y='Percentage_Attacks', kind='bar', title='Percentage of Attacks on Protocols')"
   ]
  },
  {
   "cell_type": "markdown",
   "id": "092defa8",
   "metadata": {},
   "source": [
    "# Showing the precentage of attacks from Pegasus on certain source ips. \n"
   ]
  },
  {
   "cell_type": "code",
   "execution_count": null,
   "id": "07528e48",
   "metadata": {},
   "outputs": [
    {
     "name": "stdout",
     "output_type": "stream",
     "text": [
      "Source IPs prone to Pegasus attacks:\n",
      "      Source_IP  Percentage_Attacks\n",
      "0  192.168.1.20                   2\n",
      "1  192.168.1.65                   2\n",
      "2  192.168.1.55                   2\n"
     ]
    }
   ],
   "source": [
    "# Create a DataFrame for source IP attack percentages\n",
    "source_ip_attack_data = {\n",
    "    'Source_IP': ['192.168.1.20', '192.168.1.65', '192.168.1.55', '192.168.1.16', '192.168.1.36'],\n",
    "    'Percentage_Attacks': [2, 2, 2, 1, 1]\n",
    "}\n",
    "\n",
    "source_ip_attack_df = pd.DataFrame(source_ip_attack_data)\n",
    "\n",
    "# Determine the source IPs prone to Pegasus attacks\n",
    "prone_ips = source_ip_attack_df[source_ip_attack_df['Percentage_Attacks'] >= 2]\n",
    "\n",
    "# Display the prone IPs\n",
    "print(\"Source IPs prone to Pegasus attacks:\")\n",
    "print(prone_ips)"
   ]
  },
  {
   "cell_type": "markdown",
   "id": "cf6d40b9",
   "metadata": {},
   "source": [
    "# Displaying the most frequented log type percentage on Pegasus. \n",
    "Log types we used were System, Security and Application. "
   ]
  },
  {
   "cell_type": "code",
   "execution_count": null,
   "id": "22668d73",
   "metadata": {},
   "outputs": [
    {
     "name": "stdout",
     "output_type": "stream",
     "text": [
      "The most frequented log type for Pegasus spyware attack is:\n",
      "Log_Type              System\n",
      "Percentage_Attacks        36\n",
      "Name: 0, dtype: object\n"
     ]
    }
   ],
   "source": [
    "# Define the log type percentages\n",
    "log_type_data = {\n",
    "    'Log_Type': ['System', 'Security', 'Application'],\n",
    "    'Percentage_Attacks': [36, 34, 30]\n",
    "}\n",
    "\n",
    "# Create a DataFrame\n",
    "log_type_df = pd.DataFrame(log_type_data)\n",
    "\n",
    "# Find the most frequented log type\n",
    "most_frequented_log = log_type_df.loc[log_type_df['Percentage_Attacks'].idxmax()]\n",
    "\n",
    "# Display the result\n",
    "print(\"The most frequented log type for Pegasus spyware attack is:\")\n",
    "print(most_frequented_log)"
   ]
  }
 ],
 "metadata": {
  "kernelspec": {
   "display_name": "Python 3",
   "language": "python",
   "name": "python3"
  },
  "language_info": {
   "codemirror_mode": {
    "name": "ipython",
    "version": 3
   },
   "file_extension": ".py",
   "mimetype": "text/x-python",
   "name": "python",
   "nbconvert_exporter": "python",
   "pygments_lexer": "ipython3",
   "version": "3.13.1"
  }
 },
 "nbformat": 4,
 "nbformat_minor": 5
}
